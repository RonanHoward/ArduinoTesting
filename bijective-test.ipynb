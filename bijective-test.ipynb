{
 "cells": [
  {
   "cell_type": "markdown",
   "id": "d167c56e",
   "metadata": {},
   "source": [
    "# Bijective dataset test\n",
    "\n",
    "Confirms that relationship between gimbal angles and servo posiitions is bijective."
   ]
  },
  {
   "cell_type": "code",
   "execution_count": 14,
   "id": "7334ab55",
   "metadata": {},
   "outputs": [
    {
     "name": "stdout",
     "output_type": "stream",
     "text": [
      "BIJECTION VALUE CONTRADICTION FOUND: ('-162', '214')\n"
     ]
    }
   ],
   "source": [
    "import csv\n",
    "\n",
    "key_history = []\n",
    "value_history = []\n",
    "\n",
    "with open('gimbal_angles_to_micro_writes.csv', newline='') as csvfile:\n",
    "    spamreader = csv.reader(csvfile)\n",
    "    for row in spamreader:\n",
    "        key = (row[0], row[1])\n",
    "        value = (row[2], row[3])\n",
    "\n",
    "        if key_history.__contains__(key):\n",
    "            print(\"BIJECTION KEY CONTRADICTION FOUND\")\n",
    "            break\n",
    "        else:\n",
    "            key_history.append(key)\n",
    "        if value_history.__contains__(value):\n",
    "            print(\"BIJECTION VALUE CONTRADICTION FOUND: \" + str(value))\n",
    "            break\n",
    "        else:\n",
    "            value_history.append(value)\n",
    "        \n"
   ]
  },
  {
   "cell_type": "code",
   "execution_count": 22,
   "id": "dab63519",
   "metadata": {},
   "outputs": [
    {
     "name": "stdout",
     "output_type": "stream",
     "text": [
      "min = -422\n",
      "max = 364\n",
      "intermediate values =  372\n"
     ]
    }
   ],
   "source": [
    "# find density of dataset (with respect to servo commands)\n",
    "\n",
    "servo_values = set()\n",
    "\n",
    "with open('gimbal_angles_to_micro_writes.csv', newline='') as csvfile:\n",
    "    spamreader = csv.reader(csvfile)\n",
    "    for row in spamreader:\n",
    "        servo_values.add(row[2])\n",
    "        servo_values.add(row[3])\n",
    "\n",
    "s = sorted([int(x) for x in servo_values])\n",
    "\n",
    "# find min\n",
    "print(\"min = \" + str(s[0]))\n",
    "print(\"max = \" + str(s[-1]))\n",
    "print(\"intermediate values = \", len(s)-2)\n"
   ]
  },
  {
   "cell_type": "code",
   "execution_count": 35,
   "id": "e6ef753a",
   "metadata": {},
   "outputs": [
    {
     "data": {
      "image/png": "[encoded data removed]",
      "text/plain": [
       "<Figure size 640x480 with 1 Axes>"
      ]
     },
     "metadata": {},
     "output_type": "display_data"
    }
   ],
   "source": [
    "import matplotlib.pyplot as plt\n",
    "# create histogram of all servo values\n",
    "\n",
    "a_servo_values = []\n",
    "b_servo_values = []\n",
    "\n",
    "with open('gimbal_angles_to_micro_writes.csv', newline='') as csvfile:\n",
    "    spamreader = csv.reader(csvfile)\n",
    "    for row in spamreader:\n",
    "        a_servo_values.append(int(row[2]))\n",
    "        b_servo_values.append(int(row[3]))\n",
    "\n",
    "fig, axs = plt.subplots(1, 1, tight_layout=True)\n",
    "\n",
    "# We can set the number of bins with the *bins* keyword argument.\n",
    "axs.hist2d(a_servo_values, b_servo_values, bins=150)\n",
    "plt.show()"
   ]
  }
 ],
 "metadata": {
  "kernelspec": {
   "display_name": ".venv",
   "language": "python",
   "name": "python3"
  },
  "language_info": {
   "codemirror_mode": {
    "name": "ipython",
    "version": 3
   },
   "file_extension": ".py",
   "mimetype": "text/x-python",
   "name": "python",
   "nbconvert_exporter": "python",
   "pygments_lexer": "ipython3",
   "version": "3.12.3"
  }
 },
 "nbformat": 4,
 "nbformat_minor": 5
}
